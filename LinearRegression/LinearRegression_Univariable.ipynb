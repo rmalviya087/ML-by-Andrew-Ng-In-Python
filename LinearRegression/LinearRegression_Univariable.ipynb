{
 "cells": [
  {
   "cell_type": "code",
   "execution_count": 1,
   "metadata": {},
   "outputs": [],
   "source": [
    "# import libraries\n",
    "import numpy as np\n",
    "import matplotlib.pyplot as plt\n",
    "import pandas as pd"
   ]
  },
  {
   "cell_type": "code",
   "execution_count": 4,
   "metadata": {},
   "outputs": [],
   "source": [
    "# importing data\n",
    "df = pd.read_csv('ex1data1.txt', header = None)"
   ]
  },
  {
   "cell_type": "code",
   "execution_count": 5,
   "metadata": {},
   "outputs": [
    {
     "data": {
      "text/html": [
       "<div>\n",
       "<style scoped>\n",
       "    .dataframe tbody tr th:only-of-type {\n",
       "        vertical-align: middle;\n",
       "    }\n",
       "\n",
       "    .dataframe tbody tr th {\n",
       "        vertical-align: top;\n",
       "    }\n",
       "\n",
       "    .dataframe thead th {\n",
       "        text-align: right;\n",
       "    }\n",
       "</style>\n",
       "<table border=\"1\" class=\"dataframe\">\n",
       "  <thead>\n",
       "    <tr style=\"text-align: right;\">\n",
       "      <th></th>\n",
       "      <th>0</th>\n",
       "      <th>1</th>\n",
       "    </tr>\n",
       "  </thead>\n",
       "  <tbody>\n",
       "    <tr>\n",
       "      <th>0</th>\n",
       "      <td>6.1101</td>\n",
       "      <td>17.5920</td>\n",
       "    </tr>\n",
       "    <tr>\n",
       "      <th>1</th>\n",
       "      <td>5.5277</td>\n",
       "      <td>9.1302</td>\n",
       "    </tr>\n",
       "    <tr>\n",
       "      <th>2</th>\n",
       "      <td>8.5186</td>\n",
       "      <td>13.6620</td>\n",
       "    </tr>\n",
       "    <tr>\n",
       "      <th>3</th>\n",
       "      <td>7.0032</td>\n",
       "      <td>11.8540</td>\n",
       "    </tr>\n",
       "    <tr>\n",
       "      <th>4</th>\n",
       "      <td>5.8598</td>\n",
       "      <td>6.8233</td>\n",
       "    </tr>\n",
       "  </tbody>\n",
       "</table>\n",
       "</div>"
      ],
      "text/plain": [
       "        0        1\n",
       "0  6.1101  17.5920\n",
       "1  5.5277   9.1302\n",
       "2  8.5186  13.6620\n",
       "3  7.0032  11.8540\n",
       "4  5.8598   6.8233"
      ]
     },
     "execution_count": 5,
     "metadata": {},
     "output_type": "execute_result"
    }
   ],
   "source": [
    "# view data\n",
    "df.head()"
   ]
  },
  {
   "cell_type": "code",
   "execution_count": 25,
   "metadata": {},
   "outputs": [
    {
     "data": {
      "image/png": "[encoded data removed]",
      "text/plain": [
       "<Figure size 432x288 with 1 Axes>"
      ]
     },
     "metadata": {
      "needs_background": "light"
     },
     "output_type": "display_data"
    }
   ],
   "source": [
    "# Visualising the data\n",
    "plt.scatter(df[0], df[1])\n",
    "plt.xticks(np.arange(0, 30, 5))\n",
    "plt.yticks(np.arange(0, 30, 5))\n",
    "plt.title(\"Food truck and their profit\")\n",
    "plt.show()"
   ]
  },
  {
   "cell_type": "code",
   "execution_count": 44,
   "metadata": {},
   "outputs": [],
   "source": [
    "# Compute cost function for linear regression\n",
    "def computeCost(X, y, theta):\n",
    "    \n",
    "    #get numer of trainig example and number features\n",
    "    m, n = X.shape\n",
    "    \n",
    "    # add the bias value(1) to the X\n",
    "    X = np.hstack((np.ones((m,1)), X))\n",
    "    \n",
    "    # Compute the cost\n",
    "    predictions = X@theta\n",
    "    error = sum((predictions-y)**2)\n",
    "    J = (1/(2*m))*error\n",
    "    \n",
    "    # Compute grad\n",
    "    grad = (1/m) * (X.T @ (predictions-y))\n",
    "    \n",
    "    return J, grad\n",
    "    "
   ]
  },
  {
   "cell_type": "code",
   "execution_count": 45,
   "metadata": {},
   "outputs": [
    {
     "name": "stdout",
     "output_type": "stream",
     "text": [
      "Cost J:  [32.07273388]\n",
      "grad value:  [[ -5.83913505]\n",
      " [-65.32884975]]\n"
     ]
    }
   ],
   "source": [
    "X = df.iloc[:,0:1].values\n",
    "y = df.iloc[:,1:2].values\n",
    "theta = np.zeros((X.shape[1]+1, 1))\n",
    "\n",
    "J, grad = computeCost(X, y, theta);\n",
    "print('Cost J: ',J)\n",
    "print('grad value: ', grad)"
   ]
  },
  {
   "cell_type": "code",
   "execution_count": 46,
   "metadata": {},
   "outputs": [],
   "source": [
    "# Copute gradien descent\n",
    "def gradientDescent(X, y, alpha, number_iterations):\n",
    "    \n",
    "    m, n = X.shape\n",
    "    j_history = []\n",
    "    \n",
    "    # add the bias value(1) to the X\n",
    "    #X = np.hstack((np.ones((m,1)), X))\n",
    "    \n",
    "    # initiaze the theta\n",
    "    theta = np.zeros((n+1, 1))\n",
    "    \n",
    "    \n",
    "    #Compute gradient descent\n",
    "    for i in range(number_iterations):\n",
    "    \n",
    "        J, grad = computeCost(X, y, theta)\n",
    "        \n",
    "        # comput gradient descent\n",
    "        \n",
    "        theta = theta - (alpha * grad)\n",
    "        j_history.append(J)\n",
    "    \n",
    "    return j_history, theta\n",
    "        "
   ]
  },
  {
   "cell_type": "code",
   "execution_count": 47,
   "metadata": {},
   "outputs": [
    {
     "name": "stdout",
     "output_type": "stream",
     "text": [
      "Cost function j_history size:  1500\n",
      "Final value of Theta size:  [[-3.63029144]\n",
      " [ 1.16636235]]\n"
     ]
    }
   ],
   "source": [
    "j_history, theta_final = gradientDescent(X, y, alpha = 0.01, number_iterations=1500)\n",
    "print('Cost function j_history size: ', np.size(j_history))\n",
    "print('Final value of Theta size: ', theta_final)"
   ]
  },
  {
   "cell_type": "code",
   "execution_count": 48,
   "metadata": {},
   "outputs": [
    {
     "data": {
      "image/png": "[encoded data removed]",
      "text/plain": [
       "<Figure size 432x288 with 1 Axes>"
      ]
     },
     "metadata": {
      "needs_background": "light"
     },
     "output_type": "display_data"
    }
   ],
   "source": [
    "# Visualizing Cost function\n",
    "plt.plot(j_history)\n",
    "plt.xlabel('Number of iterations')\n",
    "plt.ylabel('Cost values J')\n",
    "plt.title('Cost Vs Iterations')\n",
    "plt.show()"
   ]
  },
  {
   "cell_type": "code",
   "execution_count": 81,
   "metadata": {},
   "outputs": [
    {
     "data": {
      "image/png": "[encoded data removed]",
      "text/plain": [
       "<Figure size 432x288 with 1 Axes>"
      ]
     },
     "metadata": {
      "needs_background": "light"
     },
     "output_type": "display_data"
    }
   ],
   "source": [
    "# Graph with best fit line on data\n",
    "plt.scatter(df[0], df[1])\n",
    "X_values = [X for X in range(25)]\n",
    "y_values = [y*theta_final[1]+theta_final[0] for y in X_values]\n",
    "plt.plot(X_values, y_values)\n",
    "plt.xlabel('Goods vslues')\n",
    "plt.ylabel('Profit')\n",
    "plt.title('Fitting prediction line on Data')\n",
    "plt.show()\n"
   ]
  },
  {
   "cell_type": "code",
   "execution_count": null,
   "metadata": {},
   "outputs": [],
   "source": []
  }
 ],
 "metadata": {
  "kernelspec": {
   "display_name": "Python 3",
   "language": "python",
   "name": "python3"
  },
  "language_info": {
   "codemirror_mode": {
    "name": "ipython",
    "version": 3
   },
   "file_extension": ".py",
   "mimetype": "text/x-python",
   "name": "python",
   "nbconvert_exporter": "python",
   "pygments_lexer": "ipython3",
   "version": "3.6.7"
  },
  "varInspector": {
   "cols": {
    "lenName": 16,
    "lenType": 16,
    "lenVar": 40
   },
   "kernels_config": {
    "python": {
     "delete_cmd_postfix": "",
     "delete_cmd_prefix": "del ",
     "library": "var_list.py",
     "varRefreshCmd": "print(var_dic_list())"
    },
    "r": {
     "delete_cmd_postfix": ") ",
     "delete_cmd_prefix": "rm(",
     "library": "var_list.r",
     "varRefreshCmd": "cat(var_dic_list()) "
    }
   },
   "position": {
    "height": "357.667px",
    "left": "902px",
    "right": "20px",
    "top": "-65px",
    "width": "350px"
   },
   "types_to_exclude": [
    "module",
    "function",
    "builtin_function_or_method",
    "instance",
    "_Feature"
   ],
   "window_display": false
  }
 },
 "nbformat": 4,
 "nbformat_minor": 2
}
